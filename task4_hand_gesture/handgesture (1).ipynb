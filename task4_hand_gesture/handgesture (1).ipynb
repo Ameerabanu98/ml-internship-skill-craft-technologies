{
  "nbformat": 4,
  "nbformat_minor": 0,
  "metadata": {
    "colab": {
      "provenance": []
    },
    "kernelspec": {
      "name": "python3",
      "display_name": "Python 3"
    },
    "language_info": {
      "name": "python"
    }
  },
  "cells": [
    {
      "cell_type": "markdown",
      "source": [
        "# **Hand gesture recognition Using CNN**"
      ],
      "metadata": {
        "id": "bx06C13X8Lzx"
      }
    },
    {
      "cell_type": "markdown",
      "source": [
        "This project focuses on building a computer vision system that can recognize and classify hand gestures using deep learning techniques. Hand gesture recognition plays a crucial role in applications such as sign language interpretation, touchless interfaces, and human-computer interaction.\n",
        "\n",
        "In this project, we use a labeled dataset of hand gesture images and train a Convolutional Neural Network (CNN) to accurately classify gestures into predefined categories such as thumbs up, okay, palm, and more. The model processes grayscale images, learns spatial features, and is then evaluated on its ability to predict gestures from unseen images.\n",
        "\n",
        "The final system can be extended for real-time gesture detection using webcam input, making it a foundation for more interactive and intelligent systems."
      ],
      "metadata": {
        "id": "a1rsPr-18U4B"
      }
    },
    {
      "cell_type": "code",
      "execution_count": 1,
      "metadata": {
        "colab": {
          "base_uri": "https://localhost:8080/",
          "height": 90
        },
        "id": "n5M1lkq5uHcH",
        "outputId": "01651e8a-b689-43d5-9a74-3074cddc2330"
      },
      "outputs": [
        {
          "output_type": "display_data",
          "data": {
            "text/plain": [
              "<IPython.core.display.HTML object>"
            ],
            "text/html": [
              "\n",
              "     <input type=\"file\" id=\"files-16b0770f-a312-473e-93a1-00d19a0308fc\" name=\"files[]\" multiple disabled\n",
              "        style=\"border:none\" />\n",
              "     <output id=\"result-16b0770f-a312-473e-93a1-00d19a0308fc\">\n",
              "      Upload widget is only available when the cell has been executed in the\n",
              "      current browser session. Please rerun this cell to enable.\n",
              "      </output>\n",
              "      <script>// Copyright 2017 Google LLC\n",
              "//\n",
              "// Licensed under the Apache License, Version 2.0 (the \"License\");\n",
              "// you may not use this file except in compliance with the License.\n",
              "// You may obtain a copy of the License at\n",
              "//\n",
              "//      http://www.apache.org/licenses/LICENSE-2.0\n",
              "//\n",
              "// Unless required by applicable law or agreed to in writing, software\n",
              "// distributed under the License is distributed on an \"AS IS\" BASIS,\n",
              "// WITHOUT WARRANTIES OR CONDITIONS OF ANY KIND, either express or implied.\n",
              "// See the License for the specific language governing permissions and\n",
              "// limitations under the License.\n",
              "\n",
              "/**\n",
              " * @fileoverview Helpers for google.colab Python module.\n",
              " */\n",
              "(function(scope) {\n",
              "function span(text, styleAttributes = {}) {\n",
              "  const element = document.createElement('span');\n",
              "  element.textContent = text;\n",
              "  for (const key of Object.keys(styleAttributes)) {\n",
              "    element.style[key] = styleAttributes[key];\n",
              "  }\n",
              "  return element;\n",
              "}\n",
              "\n",
              "// Max number of bytes which will be uploaded at a time.\n",
              "const MAX_PAYLOAD_SIZE = 100 * 1024;\n",
              "\n",
              "function _uploadFiles(inputId, outputId) {\n",
              "  const steps = uploadFilesStep(inputId, outputId);\n",
              "  const outputElement = document.getElementById(outputId);\n",
              "  // Cache steps on the outputElement to make it available for the next call\n",
              "  // to uploadFilesContinue from Python.\n",
              "  outputElement.steps = steps;\n",
              "\n",
              "  return _uploadFilesContinue(outputId);\n",
              "}\n",
              "\n",
              "// This is roughly an async generator (not supported in the browser yet),\n",
              "// where there are multiple asynchronous steps and the Python side is going\n",
              "// to poll for completion of each step.\n",
              "// This uses a Promise to block the python side on completion of each step,\n",
              "// then passes the result of the previous step as the input to the next step.\n",
              "function _uploadFilesContinue(outputId) {\n",
              "  const outputElement = document.getElementById(outputId);\n",
              "  const steps = outputElement.steps;\n",
              "\n",
              "  const next = steps.next(outputElement.lastPromiseValue);\n",
              "  return Promise.resolve(next.value.promise).then((value) => {\n",
              "    // Cache the last promise value to make it available to the next\n",
              "    // step of the generator.\n",
              "    outputElement.lastPromiseValue = value;\n",
              "    return next.value.response;\n",
              "  });\n",
              "}\n",
              "\n",
              "/**\n",
              " * Generator function which is called between each async step of the upload\n",
              " * process.\n",
              " * @param {string} inputId Element ID of the input file picker element.\n",
              " * @param {string} outputId Element ID of the output display.\n",
              " * @return {!Iterable<!Object>} Iterable of next steps.\n",
              " */\n",
              "function* uploadFilesStep(inputId, outputId) {\n",
              "  const inputElement = document.getElementById(inputId);\n",
              "  inputElement.disabled = false;\n",
              "\n",
              "  const outputElement = document.getElementById(outputId);\n",
              "  outputElement.innerHTML = '';\n",
              "\n",
              "  const pickedPromise = new Promise((resolve) => {\n",
              "    inputElement.addEventListener('change', (e) => {\n",
              "      resolve(e.target.files);\n",
              "    });\n",
              "  });\n",
              "\n",
              "  const cancel = document.createElement('button');\n",
              "  inputElement.parentElement.appendChild(cancel);\n",
              "  cancel.textContent = 'Cancel upload';\n",
              "  const cancelPromise = new Promise((resolve) => {\n",
              "    cancel.onclick = () => {\n",
              "      resolve(null);\n",
              "    };\n",
              "  });\n",
              "\n",
              "  // Wait for the user to pick the files.\n",
              "  const files = yield {\n",
              "    promise: Promise.race([pickedPromise, cancelPromise]),\n",
              "    response: {\n",
              "      action: 'starting',\n",
              "    }\n",
              "  };\n",
              "\n",
              "  cancel.remove();\n",
              "\n",
              "  // Disable the input element since further picks are not allowed.\n",
              "  inputElement.disabled = true;\n",
              "\n",
              "  if (!files) {\n",
              "    return {\n",
              "      response: {\n",
              "        action: 'complete',\n",
              "      }\n",
              "    };\n",
              "  }\n",
              "\n",
              "  for (const file of files) {\n",
              "    const li = document.createElement('li');\n",
              "    li.append(span(file.name, {fontWeight: 'bold'}));\n",
              "    li.append(span(\n",
              "        `(${file.type || 'n/a'}) - ${file.size} bytes, ` +\n",
              "        `last modified: ${\n",
              "            file.lastModifiedDate ? file.lastModifiedDate.toLocaleDateString() :\n",
              "                                    'n/a'} - `));\n",
              "    const percent = span('0% done');\n",
              "    li.appendChild(percent);\n",
              "\n",
              "    outputElement.appendChild(li);\n",
              "\n",
              "    const fileDataPromise = new Promise((resolve) => {\n",
              "      const reader = new FileReader();\n",
              "      reader.onload = (e) => {\n",
              "        resolve(e.target.result);\n",
              "      };\n",
              "      reader.readAsArrayBuffer(file);\n",
              "    });\n",
              "    // Wait for the data to be ready.\n",
              "    let fileData = yield {\n",
              "      promise: fileDataPromise,\n",
              "      response: {\n",
              "        action: 'continue',\n",
              "      }\n",
              "    };\n",
              "\n",
              "    // Use a chunked sending to avoid message size limits. See b/62115660.\n",
              "    let position = 0;\n",
              "    do {\n",
              "      const length = Math.min(fileData.byteLength - position, MAX_PAYLOAD_SIZE);\n",
              "      const chunk = new Uint8Array(fileData, position, length);\n",
              "      position += length;\n",
              "\n",
              "      const base64 = btoa(String.fromCharCode.apply(null, chunk));\n",
              "      yield {\n",
              "        response: {\n",
              "          action: 'append',\n",
              "          file: file.name,\n",
              "          data: base64,\n",
              "        },\n",
              "      };\n",
              "\n",
              "      let percentDone = fileData.byteLength === 0 ?\n",
              "          100 :\n",
              "          Math.round((position / fileData.byteLength) * 100);\n",
              "      percent.textContent = `${percentDone}% done`;\n",
              "\n",
              "    } while (position < fileData.byteLength);\n",
              "  }\n",
              "\n",
              "  // All done.\n",
              "  yield {\n",
              "    response: {\n",
              "      action: 'complete',\n",
              "    }\n",
              "  };\n",
              "}\n",
              "\n",
              "scope.google = scope.google || {};\n",
              "scope.google.colab = scope.google.colab || {};\n",
              "scope.google.colab._files = {\n",
              "  _uploadFiles,\n",
              "  _uploadFilesContinue,\n",
              "};\n",
              "})(self);\n",
              "</script> "
            ]
          },
          "metadata": {}
        },
        {
          "output_type": "stream",
          "name": "stdout",
          "text": [
            "Saving kaggle.json to kaggle.json\n"
          ]
        },
        {
          "output_type": "execute_result",
          "data": {
            "text/plain": [
              "{'kaggle.json': b'{\"username\":\"ameerabanup\",\"key\":\"a5330ced041817daff58b1e74ad24aeb\"}'}"
            ]
          },
          "metadata": {},
          "execution_count": 1
        }
      ],
      "source": [
        "from google.colab import files\n",
        "files.upload()"
      ]
    },
    {
      "cell_type": "markdown",
      "source": [
        "## Importing files from kaggle\n"
      ],
      "metadata": {
        "id": "M8nmTp7T8Ya3"
      }
    },
    {
      "cell_type": "code",
      "source": [
        "!mkdir -p ~/.kaggle\n",
        "!cp kaggle.json ~/.kaggle/\n",
        "!chmod 600 ~/.kaggle/kaggle.json"
      ],
      "metadata": {
        "id": "Tqz9MSeJubdp"
      },
      "execution_count": 2,
      "outputs": []
    },
    {
      "cell_type": "code",
      "source": [
        "!kaggle datasets download -d \"gti-upm/leapgestrecog\""
      ],
      "metadata": {
        "colab": {
          "base_uri": "https://localhost:8080/"
        },
        "id": "5qUGTMWQunBG",
        "outputId": "150d86b1-7756-448c-c572-a8e6f852e1aa"
      },
      "execution_count": 3,
      "outputs": [
        {
          "output_type": "stream",
          "name": "stdout",
          "text": [
            "Dataset URL: https://www.kaggle.com/datasets/gti-upm/leapgestrecog\n",
            "License(s): CC-BY-NC-SA-4.0\n",
            "Downloading leapgestrecog.zip to /content\n",
            " 99% 2.12G/2.13G [00:13<00:00, 244MB/s]\n",
            "100% 2.13G/2.13G [00:13<00:00, 170MB/s]\n"
          ]
        }
      ]
    },
    {
      "cell_type": "code",
      "source": [
        "import zipfile\n",
        "import os\n",
        "\n",
        "zip_path = \"/content/leapgestrecog.zip\"  # replace with your actual file name\n",
        "extract_path = \"/content/hand_gesture_data\"\n",
        "\n",
        "with zipfile.ZipFile(zip_path, 'r') as zip_ref:\n",
        "    zip_ref.extractall(extract_path)"
      ],
      "metadata": {
        "id": "wRD0fXnVxpHE"
      },
      "execution_count": 4,
      "outputs": []
    },
    {
      "cell_type": "code",
      "source": [
        "# Print all the folders and no of files in them.\n",
        "for root, dirs, files in os.walk(\"/content/hand_gesture_data\"):\n",
        "    print(root, \"->\", len(dirs), \"folders,\", len(files), \"files\")"
      ],
      "metadata": {
        "colab": {
          "base_uri": "https://localhost:8080/"
        },
        "id": "csCCFKwQyLvN",
        "outputId": "0c272327-0729-4301-dc6f-91d7fca0fdc0"
      },
      "execution_count": 5,
      "outputs": [
        {
          "output_type": "stream",
          "name": "stdout",
          "text": [
            "/content/hand_gesture_data -> 2 folders, 0 files\n",
            "/content/hand_gesture_data/leapgestrecog -> 1 folders, 0 files\n",
            "/content/hand_gesture_data/leapgestrecog/leapGestRecog -> 10 folders, 0 files\n",
            "/content/hand_gesture_data/leapgestrecog/leapGestRecog/02 -> 10 folders, 0 files\n",
            "/content/hand_gesture_data/leapgestrecog/leapGestRecog/02/03_fist -> 0 folders, 200 files\n",
            "/content/hand_gesture_data/leapgestrecog/leapGestRecog/02/01_palm -> 0 folders, 200 files\n",
            "/content/hand_gesture_data/leapgestrecog/leapGestRecog/02/06_index -> 0 folders, 200 files\n",
            "/content/hand_gesture_data/leapgestrecog/leapGestRecog/02/02_l -> 0 folders, 200 files\n",
            "/content/hand_gesture_data/leapgestrecog/leapGestRecog/02/07_ok -> 0 folders, 200 files\n",
            "/content/hand_gesture_data/leapgestrecog/leapGestRecog/02/04_fist_moved -> 0 folders, 200 files\n",
            "/content/hand_gesture_data/leapgestrecog/leapGestRecog/02/09_c -> 0 folders, 200 files\n",
            "/content/hand_gesture_data/leapgestrecog/leapGestRecog/02/08_palm_moved -> 0 folders, 200 files\n",
            "/content/hand_gesture_data/leapgestrecog/leapGestRecog/02/10_down -> 0 folders, 200 files\n",
            "/content/hand_gesture_data/leapgestrecog/leapGestRecog/02/05_thumb -> 0 folders, 200 files\n",
            "/content/hand_gesture_data/leapgestrecog/leapGestRecog/01 -> 10 folders, 0 files\n",
            "/content/hand_gesture_data/leapgestrecog/leapGestRecog/01/03_fist -> 0 folders, 200 files\n",
            "/content/hand_gesture_data/leapgestrecog/leapGestRecog/01/01_palm -> 0 folders, 200 files\n",
            "/content/hand_gesture_data/leapgestrecog/leapGestRecog/01/06_index -> 0 folders, 200 files\n",
            "/content/hand_gesture_data/leapgestrecog/leapGestRecog/01/02_l -> 0 folders, 200 files\n",
            "/content/hand_gesture_data/leapgestrecog/leapGestRecog/01/07_ok -> 0 folders, 200 files\n",
            "/content/hand_gesture_data/leapgestrecog/leapGestRecog/01/04_fist_moved -> 0 folders, 200 files\n",
            "/content/hand_gesture_data/leapgestrecog/leapGestRecog/01/09_c -> 0 folders, 200 files\n",
            "/content/hand_gesture_data/leapgestrecog/leapGestRecog/01/08_palm_moved -> 0 folders, 200 files\n",
            "/content/hand_gesture_data/leapgestrecog/leapGestRecog/01/10_down -> 0 folders, 200 files\n",
            "/content/hand_gesture_data/leapgestrecog/leapGestRecog/01/05_thumb -> 0 folders, 200 files\n",
            "/content/hand_gesture_data/leapgestrecog/leapGestRecog/09 -> 10 folders, 0 files\n",
            "/content/hand_gesture_data/leapgestrecog/leapGestRecog/09/03_fist -> 0 folders, 200 files\n",
            "/content/hand_gesture_data/leapgestrecog/leapGestRecog/09/01_palm -> 0 folders, 200 files\n",
            "/content/hand_gesture_data/leapgestrecog/leapGestRecog/09/06_index -> 0 folders, 200 files\n",
            "/content/hand_gesture_data/leapgestrecog/leapGestRecog/09/02_l -> 0 folders, 200 files\n",
            "/content/hand_gesture_data/leapgestrecog/leapGestRecog/09/07_ok -> 0 folders, 200 files\n",
            "/content/hand_gesture_data/leapgestrecog/leapGestRecog/09/04_fist_moved -> 0 folders, 200 files\n",
            "/content/hand_gesture_data/leapgestrecog/leapGestRecog/09/09_c -> 0 folders, 200 files\n",
            "/content/hand_gesture_data/leapgestrecog/leapGestRecog/09/08_palm_moved -> 0 folders, 200 files\n",
            "/content/hand_gesture_data/leapgestrecog/leapGestRecog/09/10_down -> 0 folders, 200 files\n",
            "/content/hand_gesture_data/leapgestrecog/leapGestRecog/09/05_thumb -> 0 folders, 200 files\n",
            "/content/hand_gesture_data/leapgestrecog/leapGestRecog/04 -> 10 folders, 0 files\n",
            "/content/hand_gesture_data/leapgestrecog/leapGestRecog/04/03_fist -> 0 folders, 200 files\n",
            "/content/hand_gesture_data/leapgestrecog/leapGestRecog/04/01_palm -> 0 folders, 200 files\n",
            "/content/hand_gesture_data/leapgestrecog/leapGestRecog/04/06_index -> 0 folders, 200 files\n",
            "/content/hand_gesture_data/leapgestrecog/leapGestRecog/04/02_l -> 0 folders, 200 files\n",
            "/content/hand_gesture_data/leapgestrecog/leapGestRecog/04/07_ok -> 0 folders, 200 files\n",
            "/content/hand_gesture_data/leapgestrecog/leapGestRecog/04/04_fist_moved -> 0 folders, 200 files\n",
            "/content/hand_gesture_data/leapgestrecog/leapGestRecog/04/09_c -> 0 folders, 200 files\n",
            "/content/hand_gesture_data/leapgestrecog/leapGestRecog/04/08_palm_moved -> 0 folders, 200 files\n",
            "/content/hand_gesture_data/leapgestrecog/leapGestRecog/04/10_down -> 0 folders, 200 files\n",
            "/content/hand_gesture_data/leapgestrecog/leapGestRecog/04/05_thumb -> 0 folders, 200 files\n",
            "/content/hand_gesture_data/leapgestrecog/leapGestRecog/05 -> 10 folders, 0 files\n",
            "/content/hand_gesture_data/leapgestrecog/leapGestRecog/05/03_fist -> 0 folders, 200 files\n",
            "/content/hand_gesture_data/leapgestrecog/leapGestRecog/05/01_palm -> 0 folders, 200 files\n",
            "/content/hand_gesture_data/leapgestrecog/leapGestRecog/05/06_index -> 0 folders, 200 files\n",
            "/content/hand_gesture_data/leapgestrecog/leapGestRecog/05/02_l -> 0 folders, 200 files\n",
            "/content/hand_gesture_data/leapgestrecog/leapGestRecog/05/07_ok -> 0 folders, 200 files\n",
            "/content/hand_gesture_data/leapgestrecog/leapGestRecog/05/04_fist_moved -> 0 folders, 200 files\n",
            "/content/hand_gesture_data/leapgestrecog/leapGestRecog/05/09_c -> 0 folders, 200 files\n",
            "/content/hand_gesture_data/leapgestrecog/leapGestRecog/05/08_palm_moved -> 0 folders, 200 files\n",
            "/content/hand_gesture_data/leapgestrecog/leapGestRecog/05/10_down -> 0 folders, 200 files\n",
            "/content/hand_gesture_data/leapgestrecog/leapGestRecog/05/05_thumb -> 0 folders, 200 files\n",
            "/content/hand_gesture_data/leapgestrecog/leapGestRecog/08 -> 10 folders, 0 files\n",
            "/content/hand_gesture_data/leapgestrecog/leapGestRecog/08/03_fist -> 0 folders, 200 files\n",
            "/content/hand_gesture_data/leapgestrecog/leapGestRecog/08/01_palm -> 0 folders, 200 files\n",
            "/content/hand_gesture_data/leapgestrecog/leapGestRecog/08/06_index -> 0 folders, 200 files\n",
            "/content/hand_gesture_data/leapgestrecog/leapGestRecog/08/02_l -> 0 folders, 200 files\n",
            "/content/hand_gesture_data/leapgestrecog/leapGestRecog/08/07_ok -> 0 folders, 200 files\n",
            "/content/hand_gesture_data/leapgestrecog/leapGestRecog/08/04_fist_moved -> 0 folders, 200 files\n",
            "/content/hand_gesture_data/leapgestrecog/leapGestRecog/08/09_c -> 0 folders, 200 files\n",
            "/content/hand_gesture_data/leapgestrecog/leapGestRecog/08/08_palm_moved -> 0 folders, 200 files\n",
            "/content/hand_gesture_data/leapgestrecog/leapGestRecog/08/10_down -> 0 folders, 200 files\n",
            "/content/hand_gesture_data/leapgestrecog/leapGestRecog/08/05_thumb -> 0 folders, 200 files\n",
            "/content/hand_gesture_data/leapgestrecog/leapGestRecog/03 -> 10 folders, 0 files\n",
            "/content/hand_gesture_data/leapgestrecog/leapGestRecog/03/03_fist -> 0 folders, 200 files\n",
            "/content/hand_gesture_data/leapgestrecog/leapGestRecog/03/01_palm -> 0 folders, 200 files\n",
            "/content/hand_gesture_data/leapgestrecog/leapGestRecog/03/06_index -> 0 folders, 200 files\n",
            "/content/hand_gesture_data/leapgestrecog/leapGestRecog/03/02_l -> 0 folders, 200 files\n",
            "/content/hand_gesture_data/leapgestrecog/leapGestRecog/03/07_ok -> 0 folders, 200 files\n",
            "/content/hand_gesture_data/leapgestrecog/leapGestRecog/03/04_fist_moved -> 0 folders, 200 files\n",
            "/content/hand_gesture_data/leapgestrecog/leapGestRecog/03/09_c -> 0 folders, 200 files\n",
            "/content/hand_gesture_data/leapgestrecog/leapGestRecog/03/08_palm_moved -> 0 folders, 200 files\n",
            "/content/hand_gesture_data/leapgestrecog/leapGestRecog/03/10_down -> 0 folders, 200 files\n",
            "/content/hand_gesture_data/leapgestrecog/leapGestRecog/03/05_thumb -> 0 folders, 200 files\n",
            "/content/hand_gesture_data/leapgestrecog/leapGestRecog/07 -> 10 folders, 0 files\n",
            "/content/hand_gesture_data/leapgestrecog/leapGestRecog/07/03_fist -> 0 folders, 200 files\n",
            "/content/hand_gesture_data/leapgestrecog/leapGestRecog/07/01_palm -> 0 folders, 200 files\n",
            "/content/hand_gesture_data/leapgestrecog/leapGestRecog/07/06_index -> 0 folders, 200 files\n",
            "/content/hand_gesture_data/leapgestrecog/leapGestRecog/07/02_l -> 0 folders, 200 files\n",
            "/content/hand_gesture_data/leapgestrecog/leapGestRecog/07/07_ok -> 0 folders, 200 files\n",
            "/content/hand_gesture_data/leapgestrecog/leapGestRecog/07/04_fist_moved -> 0 folders, 200 files\n",
            "/content/hand_gesture_data/leapgestrecog/leapGestRecog/07/09_c -> 0 folders, 200 files\n",
            "/content/hand_gesture_data/leapgestrecog/leapGestRecog/07/08_palm_moved -> 0 folders, 200 files\n",
            "/content/hand_gesture_data/leapgestrecog/leapGestRecog/07/10_down -> 0 folders, 200 files\n",
            "/content/hand_gesture_data/leapgestrecog/leapGestRecog/07/05_thumb -> 0 folders, 200 files\n",
            "/content/hand_gesture_data/leapgestrecog/leapGestRecog/00 -> 10 folders, 0 files\n",
            "/content/hand_gesture_data/leapgestrecog/leapGestRecog/00/03_fist -> 0 folders, 200 files\n",
            "/content/hand_gesture_data/leapgestrecog/leapGestRecog/00/01_palm -> 0 folders, 200 files\n",
            "/content/hand_gesture_data/leapgestrecog/leapGestRecog/00/06_index -> 0 folders, 200 files\n",
            "/content/hand_gesture_data/leapgestrecog/leapGestRecog/00/02_l -> 0 folders, 200 files\n",
            "/content/hand_gesture_data/leapgestrecog/leapGestRecog/00/07_ok -> 0 folders, 200 files\n",
            "/content/hand_gesture_data/leapgestrecog/leapGestRecog/00/04_fist_moved -> 0 folders, 200 files\n",
            "/content/hand_gesture_data/leapgestrecog/leapGestRecog/00/09_c -> 0 folders, 200 files\n",
            "/content/hand_gesture_data/leapgestrecog/leapGestRecog/00/08_palm_moved -> 0 folders, 200 files\n",
            "/content/hand_gesture_data/leapgestrecog/leapGestRecog/00/10_down -> 0 folders, 200 files\n",
            "/content/hand_gesture_data/leapgestrecog/leapGestRecog/00/05_thumb -> 0 folders, 200 files\n",
            "/content/hand_gesture_data/leapgestrecog/leapGestRecog/06 -> 10 folders, 0 files\n",
            "/content/hand_gesture_data/leapgestrecog/leapGestRecog/06/03_fist -> 0 folders, 200 files\n",
            "/content/hand_gesture_data/leapgestrecog/leapGestRecog/06/01_palm -> 0 folders, 200 files\n",
            "/content/hand_gesture_data/leapgestrecog/leapGestRecog/06/06_index -> 0 folders, 200 files\n",
            "/content/hand_gesture_data/leapgestrecog/leapGestRecog/06/02_l -> 0 folders, 200 files\n",
            "/content/hand_gesture_data/leapgestrecog/leapGestRecog/06/07_ok -> 0 folders, 200 files\n",
            "/content/hand_gesture_data/leapgestrecog/leapGestRecog/06/04_fist_moved -> 0 folders, 200 files\n",
            "/content/hand_gesture_data/leapgestrecog/leapGestRecog/06/09_c -> 0 folders, 200 files\n",
            "/content/hand_gesture_data/leapgestrecog/leapGestRecog/06/08_palm_moved -> 0 folders, 200 files\n",
            "/content/hand_gesture_data/leapgestrecog/leapGestRecog/06/10_down -> 0 folders, 200 files\n",
            "/content/hand_gesture_data/leapgestrecog/leapGestRecog/06/05_thumb -> 0 folders, 200 files\n",
            "/content/hand_gesture_data/leapGestRecog -> 10 folders, 0 files\n",
            "/content/hand_gesture_data/leapGestRecog/02 -> 10 folders, 0 files\n",
            "/content/hand_gesture_data/leapGestRecog/02/03_fist -> 0 folders, 200 files\n",
            "/content/hand_gesture_data/leapGestRecog/02/01_palm -> 0 folders, 200 files\n",
            "/content/hand_gesture_data/leapGestRecog/02/06_index -> 0 folders, 200 files\n",
            "/content/hand_gesture_data/leapGestRecog/02/02_l -> 0 folders, 200 files\n",
            "/content/hand_gesture_data/leapGestRecog/02/07_ok -> 0 folders, 200 files\n",
            "/content/hand_gesture_data/leapGestRecog/02/04_fist_moved -> 0 folders, 200 files\n",
            "/content/hand_gesture_data/leapGestRecog/02/09_c -> 0 folders, 200 files\n",
            "/content/hand_gesture_data/leapGestRecog/02/08_palm_moved -> 0 folders, 200 files\n",
            "/content/hand_gesture_data/leapGestRecog/02/10_down -> 0 folders, 200 files\n",
            "/content/hand_gesture_data/leapGestRecog/02/05_thumb -> 0 folders, 200 files\n",
            "/content/hand_gesture_data/leapGestRecog/01 -> 10 folders, 0 files\n",
            "/content/hand_gesture_data/leapGestRecog/01/03_fist -> 0 folders, 200 files\n",
            "/content/hand_gesture_data/leapGestRecog/01/01_palm -> 0 folders, 200 files\n",
            "/content/hand_gesture_data/leapGestRecog/01/06_index -> 0 folders, 200 files\n",
            "/content/hand_gesture_data/leapGestRecog/01/02_l -> 0 folders, 200 files\n",
            "/content/hand_gesture_data/leapGestRecog/01/07_ok -> 0 folders, 200 files\n",
            "/content/hand_gesture_data/leapGestRecog/01/04_fist_moved -> 0 folders, 200 files\n",
            "/content/hand_gesture_data/leapGestRecog/01/09_c -> 0 folders, 200 files\n",
            "/content/hand_gesture_data/leapGestRecog/01/08_palm_moved -> 0 folders, 200 files\n",
            "/content/hand_gesture_data/leapGestRecog/01/10_down -> 0 folders, 200 files\n",
            "/content/hand_gesture_data/leapGestRecog/01/05_thumb -> 0 folders, 200 files\n",
            "/content/hand_gesture_data/leapGestRecog/09 -> 10 folders, 0 files\n",
            "/content/hand_gesture_data/leapGestRecog/09/03_fist -> 0 folders, 200 files\n",
            "/content/hand_gesture_data/leapGestRecog/09/01_palm -> 0 folders, 200 files\n",
            "/content/hand_gesture_data/leapGestRecog/09/06_index -> 0 folders, 200 files\n",
            "/content/hand_gesture_data/leapGestRecog/09/02_l -> 0 folders, 200 files\n",
            "/content/hand_gesture_data/leapGestRecog/09/07_ok -> 0 folders, 200 files\n",
            "/content/hand_gesture_data/leapGestRecog/09/04_fist_moved -> 0 folders, 200 files\n",
            "/content/hand_gesture_data/leapGestRecog/09/09_c -> 0 folders, 200 files\n",
            "/content/hand_gesture_data/leapGestRecog/09/08_palm_moved -> 0 folders, 200 files\n",
            "/content/hand_gesture_data/leapGestRecog/09/10_down -> 0 folders, 200 files\n",
            "/content/hand_gesture_data/leapGestRecog/09/05_thumb -> 0 folders, 200 files\n",
            "/content/hand_gesture_data/leapGestRecog/04 -> 10 folders, 0 files\n",
            "/content/hand_gesture_data/leapGestRecog/04/03_fist -> 0 folders, 200 files\n",
            "/content/hand_gesture_data/leapGestRecog/04/01_palm -> 0 folders, 200 files\n",
            "/content/hand_gesture_data/leapGestRecog/04/06_index -> 0 folders, 200 files\n",
            "/content/hand_gesture_data/leapGestRecog/04/02_l -> 0 folders, 200 files\n",
            "/content/hand_gesture_data/leapGestRecog/04/07_ok -> 0 folders, 200 files\n",
            "/content/hand_gesture_data/leapGestRecog/04/04_fist_moved -> 0 folders, 200 files\n",
            "/content/hand_gesture_data/leapGestRecog/04/09_c -> 0 folders, 200 files\n",
            "/content/hand_gesture_data/leapGestRecog/04/08_palm_moved -> 0 folders, 200 files\n",
            "/content/hand_gesture_data/leapGestRecog/04/10_down -> 0 folders, 200 files\n",
            "/content/hand_gesture_data/leapGestRecog/04/05_thumb -> 0 folders, 200 files\n",
            "/content/hand_gesture_data/leapGestRecog/05 -> 10 folders, 0 files\n",
            "/content/hand_gesture_data/leapGestRecog/05/03_fist -> 0 folders, 200 files\n",
            "/content/hand_gesture_data/leapGestRecog/05/01_palm -> 0 folders, 200 files\n",
            "/content/hand_gesture_data/leapGestRecog/05/06_index -> 0 folders, 200 files\n",
            "/content/hand_gesture_data/leapGestRecog/05/02_l -> 0 folders, 200 files\n",
            "/content/hand_gesture_data/leapGestRecog/05/07_ok -> 0 folders, 200 files\n",
            "/content/hand_gesture_data/leapGestRecog/05/04_fist_moved -> 0 folders, 200 files\n",
            "/content/hand_gesture_data/leapGestRecog/05/09_c -> 0 folders, 200 files\n",
            "/content/hand_gesture_data/leapGestRecog/05/08_palm_moved -> 0 folders, 200 files\n",
            "/content/hand_gesture_data/leapGestRecog/05/10_down -> 0 folders, 200 files\n",
            "/content/hand_gesture_data/leapGestRecog/05/05_thumb -> 0 folders, 200 files\n",
            "/content/hand_gesture_data/leapGestRecog/08 -> 10 folders, 0 files\n",
            "/content/hand_gesture_data/leapGestRecog/08/03_fist -> 0 folders, 200 files\n",
            "/content/hand_gesture_data/leapGestRecog/08/01_palm -> 0 folders, 200 files\n",
            "/content/hand_gesture_data/leapGestRecog/08/06_index -> 0 folders, 200 files\n",
            "/content/hand_gesture_data/leapGestRecog/08/02_l -> 0 folders, 200 files\n",
            "/content/hand_gesture_data/leapGestRecog/08/07_ok -> 0 folders, 200 files\n",
            "/content/hand_gesture_data/leapGestRecog/08/04_fist_moved -> 0 folders, 200 files\n",
            "/content/hand_gesture_data/leapGestRecog/08/09_c -> 0 folders, 200 files\n",
            "/content/hand_gesture_data/leapGestRecog/08/08_palm_moved -> 0 folders, 200 files\n",
            "/content/hand_gesture_data/leapGestRecog/08/10_down -> 0 folders, 200 files\n",
            "/content/hand_gesture_data/leapGestRecog/08/05_thumb -> 0 folders, 200 files\n",
            "/content/hand_gesture_data/leapGestRecog/03 -> 10 folders, 0 files\n",
            "/content/hand_gesture_data/leapGestRecog/03/03_fist -> 0 folders, 200 files\n",
            "/content/hand_gesture_data/leapGestRecog/03/01_palm -> 0 folders, 200 files\n",
            "/content/hand_gesture_data/leapGestRecog/03/06_index -> 0 folders, 200 files\n",
            "/content/hand_gesture_data/leapGestRecog/03/02_l -> 0 folders, 200 files\n",
            "/content/hand_gesture_data/leapGestRecog/03/07_ok -> 0 folders, 200 files\n",
            "/content/hand_gesture_data/leapGestRecog/03/04_fist_moved -> 0 folders, 200 files\n",
            "/content/hand_gesture_data/leapGestRecog/03/09_c -> 0 folders, 200 files\n",
            "/content/hand_gesture_data/leapGestRecog/03/08_palm_moved -> 0 folders, 200 files\n",
            "/content/hand_gesture_data/leapGestRecog/03/10_down -> 0 folders, 200 files\n",
            "/content/hand_gesture_data/leapGestRecog/03/05_thumb -> 0 folders, 200 files\n",
            "/content/hand_gesture_data/leapGestRecog/07 -> 10 folders, 0 files\n",
            "/content/hand_gesture_data/leapGestRecog/07/03_fist -> 0 folders, 200 files\n",
            "/content/hand_gesture_data/leapGestRecog/07/01_palm -> 0 folders, 200 files\n",
            "/content/hand_gesture_data/leapGestRecog/07/06_index -> 0 folders, 200 files\n",
            "/content/hand_gesture_data/leapGestRecog/07/02_l -> 0 folders, 200 files\n",
            "/content/hand_gesture_data/leapGestRecog/07/07_ok -> 0 folders, 200 files\n",
            "/content/hand_gesture_data/leapGestRecog/07/04_fist_moved -> 0 folders, 200 files\n",
            "/content/hand_gesture_data/leapGestRecog/07/09_c -> 0 folders, 200 files\n",
            "/content/hand_gesture_data/leapGestRecog/07/08_palm_moved -> 0 folders, 200 files\n",
            "/content/hand_gesture_data/leapGestRecog/07/10_down -> 0 folders, 200 files\n",
            "/content/hand_gesture_data/leapGestRecog/07/05_thumb -> 0 folders, 200 files\n",
            "/content/hand_gesture_data/leapGestRecog/00 -> 10 folders, 0 files\n",
            "/content/hand_gesture_data/leapGestRecog/00/03_fist -> 0 folders, 200 files\n",
            "/content/hand_gesture_data/leapGestRecog/00/01_palm -> 0 folders, 200 files\n",
            "/content/hand_gesture_data/leapGestRecog/00/06_index -> 0 folders, 200 files\n",
            "/content/hand_gesture_data/leapGestRecog/00/02_l -> 0 folders, 200 files\n",
            "/content/hand_gesture_data/leapGestRecog/00/07_ok -> 0 folders, 200 files\n",
            "/content/hand_gesture_data/leapGestRecog/00/04_fist_moved -> 0 folders, 200 files\n",
            "/content/hand_gesture_data/leapGestRecog/00/09_c -> 0 folders, 200 files\n",
            "/content/hand_gesture_data/leapGestRecog/00/08_palm_moved -> 0 folders, 200 files\n",
            "/content/hand_gesture_data/leapGestRecog/00/10_down -> 0 folders, 200 files\n",
            "/content/hand_gesture_data/leapGestRecog/00/05_thumb -> 0 folders, 200 files\n",
            "/content/hand_gesture_data/leapGestRecog/06 -> 10 folders, 0 files\n",
            "/content/hand_gesture_data/leapGestRecog/06/03_fist -> 0 folders, 200 files\n",
            "/content/hand_gesture_data/leapGestRecog/06/01_palm -> 0 folders, 200 files\n",
            "/content/hand_gesture_data/leapGestRecog/06/06_index -> 0 folders, 200 files\n",
            "/content/hand_gesture_data/leapGestRecog/06/02_l -> 0 folders, 200 files\n",
            "/content/hand_gesture_data/leapGestRecog/06/07_ok -> 0 folders, 200 files\n",
            "/content/hand_gesture_data/leapGestRecog/06/04_fist_moved -> 0 folders, 200 files\n",
            "/content/hand_gesture_data/leapGestRecog/06/09_c -> 0 folders, 200 files\n",
            "/content/hand_gesture_data/leapGestRecog/06/08_palm_moved -> 0 folders, 200 files\n",
            "/content/hand_gesture_data/leapGestRecog/06/10_down -> 0 folders, 200 files\n",
            "/content/hand_gesture_data/leapGestRecog/06/05_thumb -> 0 folders, 200 files\n"
          ]
        }
      ]
    },
    {
      "cell_type": "markdown",
      "source": [
        "##**Loading Images and Identifying Gestures**"
      ],
      "metadata": {
        "id": "y-kFr-8b8qkU"
      }
    },
    {
      "cell_type": "code",
      "source": [
        "import cv2\n",
        "import numpy as np\n",
        "from sklearn.model_selection import train_test_split\n",
        "\n",
        "base_dir = \"/content/hand_gesture_data/leapGestRecog\"\n",
        "image_size =(64,64)\n",
        "\n",
        "X=[]\n",
        "y=[]\n",
        "\n",
        "gesture_names = {}\n",
        "label_number=0\n",
        "\n",
        "# Looping through folders\n",
        "\n",
        "for folder_name in sorted(os.listdir(base_dir)):\n",
        "    folder_path = os.path.join(base_dir, folder_name)\n",
        "    if not os.path.isdir(folder_path):\n",
        "        continue\n",
        "\n",
        "    for gesture_folder in sorted(os.listdir(folder_path)):\n",
        "        gesture_folder_path = os.path.join(folder_path, gesture_folder)\n",
        "        if not os.path.isdir(gesture_folder_path):\n",
        "            continue\n",
        "\n",
        "        gesture = gesture_folder[3:]\n",
        "        if gesture not in gesture_names:\n",
        "           gesture_names[gesture]= label_number\n",
        "           label_number += 1\n",
        "\n",
        "        label= gesture_names[gesture]\n",
        "\n",
        "\n",
        "        # Looping through all images in gesture files.\n",
        "        for image_file in os.listdir(gesture_folder_path):\n",
        "          image_path = os.path.join(gesture_folder_path, image_file)\n",
        "\n",
        "          # Read and process image\n",
        "          image = cv2.imread(image_path,cv2.IMREAD_GRAYSCALE)\n",
        "          if image is None:\n",
        "             continue\n",
        "          image = cv2.resize(image, image_size)\n",
        "\n",
        "          X.append(image)\n",
        "          y.append(label)\n",
        "\n",
        "# Convert to numpy arrays\n",
        "\n",
        "X=np.array(X)\n",
        "y=np.array(y)\n",
        "\n",
        "# Normalize (pixel values between 0 and 1) and reshape\n",
        "X = X / 255.0\n",
        "X = X.reshape(-1, 64, 64, 1)\n",
        "\n",
        "# Split into train and test sets\n",
        "X_train, X_test, y_train, y_test = train_test_split(\n",
        "    X, y, test_size=0.2, random_state=42, stratify=y\n",
        ")\n",
        "\n",
        "print(\"Images loaded:\", len(X))\n",
        "print(\"Gestures found:\", gesture_names)\n",
        "print(\"X_train shape:\", X_train.shape)\n"
      ],
      "metadata": {
        "colab": {
          "base_uri": "https://localhost:8080/"
        },
        "id": "6ck-EiuHW9jt",
        "outputId": "8085ee79-adb7-4c86-9f99-aa85295735c7"
      },
      "execution_count": 6,
      "outputs": [
        {
          "output_type": "stream",
          "name": "stdout",
          "text": [
            "Images loaded: 20000\n",
            "Gestures found: {'palm': 0, 'l': 1, 'fist': 2, 'fist_moved': 3, 'thumb': 4, 'index': 5, 'ok': 6, 'palm_moved': 7, 'c': 8, 'down': 9}\n",
            "X_train shape: (16000, 64, 64, 1)\n"
          ]
        }
      ]
    },
    {
      "cell_type": "code",
      "source": [
        "# Save the labels for future use.\n",
        "import json\n",
        "\n",
        "with open(\"label_to_name.json\", \"w\") as f:\n",
        "    json.dump({v: k for k, v in gesture_names.items()}, f)"
      ],
      "metadata": {
        "id": "RHG08-92LgON"
      },
      "execution_count": 7,
      "outputs": []
    },
    {
      "cell_type": "markdown",
      "source": [
        "##**Random Gestures**"
      ],
      "metadata": {
        "id": "tJ4T4Tuv89C1"
      }
    },
    {
      "cell_type": "code",
      "source": [
        "import matplotlib.pyplot as plt\n",
        "\n",
        "plt.figure(figsize=(10, 10))\n",
        "for i in range(9):\n",
        "    index= np.random.randint(0, len(X_train))\n",
        "    image = X_train[index].reshape(64, 64)\n",
        "    label = y_train[index]\n",
        "\n",
        "    # finding gesture name from label\n",
        "    for gesture, label_value in gesture_names.items():\n",
        "        if label_value == label:\n",
        "            gesture_name = gesture\n",
        "            break\n",
        "\n",
        "    plt.subplot(3, 3, i + 1)\n",
        "    plt.imshow(image, cmap='gray')\n",
        "    plt.title(gesture_name)\n",
        "    plt.axis('off')\n",
        "plt.show()\n"
      ],
      "metadata": {
        "colab": {
          "base_uri": "https://localhost:8080/",
          "height": 829
        },
        "id": "55MCd2klzJX5",
        "outputId": "8fe4d6c8-d5d7-4c9a-8df1-a672e67602c0"
      },
      "execution_count": 8,
      "outputs": [
        {
          "output_type": "display_data",
          "data": {
            "text/plain": [
              "<Figure size 1000x1000 with 9 Axes>"
            ],
            "image/png": "[encoded data removed]"
          },
          "metadata": {}
        }
      ]
    },
    {
      "cell_type": "code",
      "source": [
        "import tensorflow as tf\n",
        "from tensorflow.keras.models import Sequential\n",
        "from tensorflow.keras.layers import Conv2D, MaxPooling2D, Flatten, Dense, Dropout\n",
        "\n",
        "# Creating the model\n",
        "model = Sequential([\n",
        "    Conv2D(32, (3, 3), activation='relu', input_shape=(64, 64, 1)),\n",
        "    MaxPooling2D(2, 2),\n",
        "    Conv2D(64, (3, 3), activation='relu'),\n",
        "    MaxPooling2D(2, 2),\n",
        "    Flatten(),\n",
        "    Dense(128, activation='relu'),\n",
        "    Dropout(0.5),\n",
        "    Dense(len(gesture_names), activation='softmax')\n",
        "    ])\n",
        "\n",
        "# Compiling the model\n",
        "model.compile(optimizer='adam',\n",
        "              loss='sparse_categorical_crossentropy',\n",
        "              metrics=['accuracy'])\n",
        "\n",
        "# Training the model\n",
        "history = model.fit(X_train, y_train, epochs=10, validation_data=(X_test, y_test))\n",
        "\n",
        "# evaluate\n",
        "test_loss, test_acc = model.evaluate(X_test, y_test)\n",
        "print(\"Test accuracy:\", test_acc)\n"
      ],
      "metadata": {
        "id": "5GriC12u-XJH",
        "colab": {
          "base_uri": "https://localhost:8080/"
        },
        "outputId": "349fa5b3-7684-45ac-a5e7-e4ba74e1a9cb"
      },
      "execution_count": 9,
      "outputs": [
        {
          "output_type": "stream",
          "name": "stderr",
          "text": [
            "/usr/local/lib/python3.11/dist-packages/keras/src/layers/convolutional/base_conv.py:107: UserWarning: Do not pass an `input_shape`/`input_dim` argument to a layer. When using Sequential models, prefer using an `Input(shape)` object as the first layer in the model instead.\n",
            "  super().__init__(activity_regularizer=activity_regularizer, **kwargs)\n"
          ]
        },
        {
          "output_type": "stream",
          "name": "stdout",
          "text": [
            "Epoch 1/10\n",
            "\u001b[1m500/500\u001b[0m \u001b[32m━━━━━━━━━━━━━━━━━━━━\u001b[0m\u001b[37m\u001b[0m \u001b[1m50s\u001b[0m 98ms/step - accuracy: 0.6907 - loss: 0.9148 - val_accuracy: 0.9962 - val_loss: 0.0186\n",
            "Epoch 2/10\n",
            "\u001b[1m500/500\u001b[0m \u001b[32m━━━━━━━━━━━━━━━━━━━━\u001b[0m\u001b[37m\u001b[0m \u001b[1m82s\u001b[0m 98ms/step - accuracy: 0.9851 - loss: 0.0539 - val_accuracy: 0.9983 - val_loss: 0.0099\n",
            "Epoch 3/10\n",
            "\u001b[1m500/500\u001b[0m \u001b[32m━━━━━━━━━━━━━━━━━━━━\u001b[0m\u001b[37m\u001b[0m \u001b[1m84s\u001b[0m 101ms/step - accuracy: 0.9871 - loss: 0.0390 - val_accuracy: 0.9992 - val_loss: 0.0039\n",
            "Epoch 4/10\n",
            "\u001b[1m500/500\u001b[0m \u001b[32m━━━━━━━━━━━━━━━━━━━━\u001b[0m\u001b[37m\u001b[0m \u001b[1m84s\u001b[0m 106ms/step - accuracy: 0.9934 - loss: 0.0194 - val_accuracy: 0.9987 - val_loss: 0.0049\n",
            "Epoch 5/10\n",
            "\u001b[1m500/500\u001b[0m \u001b[32m━━━━━━━━━━━━━━━━━━━━\u001b[0m\u001b[37m\u001b[0m \u001b[1m80s\u001b[0m 102ms/step - accuracy: 0.9950 - loss: 0.0162 - val_accuracy: 0.9990 - val_loss: 0.0033\n",
            "Epoch 6/10\n",
            "\u001b[1m500/500\u001b[0m \u001b[32m━━━━━━━━━━━━━━━━━━━━\u001b[0m\u001b[37m\u001b[0m \u001b[1m82s\u001b[0m 102ms/step - accuracy: 0.9927 - loss: 0.0198 - val_accuracy: 0.9995 - val_loss: 0.0023\n",
            "Epoch 7/10\n",
            "\u001b[1m500/500\u001b[0m \u001b[32m━━━━━━━━━━━━━━━━━━━━\u001b[0m\u001b[37m\u001b[0m \u001b[1m80s\u001b[0m 98ms/step - accuracy: 0.9946 - loss: 0.0165 - val_accuracy: 0.9995 - val_loss: 0.0033\n",
            "Epoch 8/10\n",
            "\u001b[1m500/500\u001b[0m \u001b[32m━━━━━━━━━━━━━━━━━━━━\u001b[0m\u001b[37m\u001b[0m \u001b[1m84s\u001b[0m 102ms/step - accuracy: 0.9960 - loss: 0.0109 - val_accuracy: 0.9992 - val_loss: 0.0021\n",
            "Epoch 9/10\n",
            "\u001b[1m500/500\u001b[0m \u001b[32m━━━━━━━━━━━━━━━━━━━━\u001b[0m\u001b[37m\u001b[0m \u001b[1m81s\u001b[0m 100ms/step - accuracy: 0.9953 - loss: 0.0151 - val_accuracy: 0.9992 - val_loss: 0.0032\n",
            "Epoch 10/10\n",
            "\u001b[1m500/500\u001b[0m \u001b[32m━━━━━━━━━━━━━━━━━━━━\u001b[0m\u001b[37m\u001b[0m \u001b[1m80s\u001b[0m 96ms/step - accuracy: 0.9959 - loss: 0.0135 - val_accuracy: 0.9995 - val_loss: 0.0025\n",
            "\u001b[1m125/125\u001b[0m \u001b[32m━━━━━━━━━━━━━━━━━━━━\u001b[0m\u001b[37m\u001b[0m \u001b[1m3s\u001b[0m 25ms/step - accuracy: 0.9998 - loss: 4.4117e-04\n",
            "Test accuracy: 0.9994999766349792\n"
          ]
        }
      ]
    },
    {
      "cell_type": "code",
      "source": [
        "# Save the model\n",
        "model.save('model.h5')"
      ],
      "metadata": {
        "colab": {
          "base_uri": "https://localhost:8080/"
        },
        "id": "e-Ggmjx27cJ7",
        "outputId": "8944bdad-75ee-4377-bca8-69c5181d79bf"
      },
      "execution_count": 10,
      "outputs": [
        {
          "output_type": "stream",
          "name": "stderr",
          "text": [
            "WARNING:absl:You are saving your model as an HDF5 file via `model.save()` or `keras.saving.save_model(model)`. This file format is considered legacy. We recommend using instead the native Keras format, e.g. `model.save('my_model.keras')` or `keras.saving.save_model(model, 'my_model.keras')`. \n"
          ]
        }
      ]
    },
    {
      "cell_type": "code",
      "source": [
        "from tensorflow.keras.models import load_model\n",
        "import cv2\n",
        "import numpy as np\n",
        "\n",
        "# Load  trained model\n",
        "model = load_model('model.h5')\n",
        "\n",
        "with open(\"label_to_name.json\", \"r\") as f:\n",
        "    label_to_name = json.load(f)"
      ],
      "metadata": {
        "id": "bM58UAuv7Y_Z",
        "colab": {
          "base_uri": "https://localhost:8080/"
        },
        "outputId": "93048c19-091b-4067-bfe5-374a832a5a7e"
      },
      "execution_count": 11,
      "outputs": [
        {
          "output_type": "stream",
          "name": "stderr",
          "text": [
            "WARNING:absl:Compiled the loaded model, but the compiled metrics have yet to be built. `model.compile_metrics` will be empty until you train or evaluate the model.\n"
          ]
        }
      ]
    },
    {
      "cell_type": "code",
      "source": [
        "def preprocess_frame(frame):\n",
        "    gray = cv2.cvtColor(frame, cv2.COLOR_BGR2GRAY)         # Convert to grayscale\n",
        "    resized = cv2.resize(gray, (64, 64))                   # Resize\n",
        "    normalized = resized / 255.0                           # Normalize\n",
        "    reshaped = np.expand_dims(normalized, axis=-1)         # Add channel: (64, 64, 1)\n",
        "    reshaped = np.expand_dims(reshaped, axis=0)            # Final shape: (1, 64, 64, 1)\n",
        "    return reshaped"
      ],
      "metadata": {
        "id": "nqn6nrOu9MH8"
      },
      "execution_count": 12,
      "outputs": []
    },
    {
      "cell_type": "code",
      "source": [
        "import os\n",
        "print(os.path.exists('/content/Hand gesture.jpg'))\n",
        "\n",
        "img = cv2.imread('/content/Hand gesture.jpg')  # Unseen image\n",
        "processed = preprocess_frame(img)\n",
        "prediction = model.predict(processed)\n",
        "\n",
        "predicted_index = np.argmax(prediction)\n",
        "predicted_gesture = label_to_name[str(predicted_index)]\n",
        "\n",
        "print(f\"Predicted Gesture: {predicted_gesture}\")"
      ],
      "metadata": {
        "colab": {
          "base_uri": "https://localhost:8080/"
        },
        "id": "YuTlBFbE9Tid",
        "outputId": "d70b305d-6098-41f6-d13c-c89e04b4c68b"
      },
      "execution_count": 17,
      "outputs": [
        {
          "output_type": "stream",
          "name": "stdout",
          "text": [
            "True\n",
            "\u001b[1m1/1\u001b[0m \u001b[32m━━━━━━━━━━━━━━━━━━━━\u001b[0m\u001b[37m\u001b[0m \u001b[1m0s\u001b[0m 33ms/step\n",
            "Predicted Gesture: down\n"
          ]
        }
      ]
    },
    {
      "cell_type": "code",
      "source": [
        "# Load the image\n",
        "img_path = \"/content/Hand gesture.jpg\"\n",
        "img = cv2.imread(img_path)\n",
        "\n",
        "# Resize the image\n",
        "img_resized = cv2.resize(img, (64, 64))\n",
        "\n",
        "# Convert BGR to RGB for displaying in correct colors\n",
        "img_rgb = cv2.cvtColor(img_resized, cv2.COLOR_BGR2RGB)\n",
        "\n",
        "# Display the image\n",
        "plt.imshow(img_rgb)\n",
        "plt.title(\"Image Used for Prediction\")\n",
        "plt.axis('off')\n",
        "plt.show()\n",
        "\n",
        "\n",
        "\n"
      ],
      "metadata": {
        "id": "DT3S3qMz-kii",
        "colab": {
          "base_uri": "https://localhost:8080/",
          "height": 428
        },
        "outputId": "5bb4ec71-4afa-446c-9513-737f941b5c43"
      },
      "execution_count": 18,
      "outputs": [
        {
          "output_type": "display_data",
          "data": {
            "text/plain": [
              "<Figure size 640x480 with 1 Axes>"
            ],
            "image/png": "[encoded data removed]"
          },
          "metadata": {}
        }
      ]
    },
    {
      "cell_type": "markdown",
      "source": [
        "## **Conclusion**\n",
        "The hand gesture recognition project successfully demonstrated how deep learning and computer vision techniques can be used to classify hand gestures from images. By training a Convolutional Neural Network (CNN) on a labeled dataset of grayscale gesture images, the model was able to learn meaningful patterns and accurately predict unseen hand gestures.\n",
        "\n",
        "This system lays the foundation for real-time gesture-based applications such as touchless user interfaces, sign language interpreters, and virtual controllers. With further enhancements like real-time webcam integration and larger datasets, the model can be made more robust and adaptable to real-world use cases.\n",
        "\n"
      ],
      "metadata": {
        "id": "624p0Weiim7D"
      }
    }
  ]
}